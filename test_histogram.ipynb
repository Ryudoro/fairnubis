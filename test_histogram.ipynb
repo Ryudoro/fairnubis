{
 "cells": [
  {
   "cell_type": "code",
   "execution_count": null,
   "metadata": {},
   "outputs": [],
   "source": [
    "from HNL import HNLConfig\n",
    "\n",
    "hnl_params = {\n",
    "        \"type\" : \"HNL\",\n",
    "        \"mass\": 1.0,\n",
    "        \"couplings\": [0.447e-9, 7.15e-9, 1.88e-9],\n",
    "        \"process_selection\": \"W\",\n",
    "        \"HNL_decay\": False,\n",
    "        \"epsilon\" : 0.00000008,\n",
    "        \"mothermode\" : True\n",
    "    }\n",
    "conf = HNLConfig()"
   ]
  }
 ],
 "metadata": {
  "language_info": {
   "name": "python"
  }
 },
 "nbformat": 4,
 "nbformat_minor": 2
}
